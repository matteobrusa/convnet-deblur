{
 "cells": [
  {
   "cell_type": "code",
   "execution_count": 37,
   "metadata": {
    "collapsed": true
   },
   "outputs": [],
   "source": [
    "import numpy as np\n",
    "import scipy.interpolate as si\n",
    "\n",
    "\n",
    "def bspline(cv, n=100, degree=3, periodic=False):\n",
    "    \"\"\" Calculate n samples on a bspline\n",
    "\n",
    "        cv :      Array ov control vertices\n",
    "        n  :      Number of samples to return\n",
    "        degree:   Curve degree\n",
    "        periodic: True - Curve is closed\n",
    "                  False - Curve is open\n",
    "    \"\"\"\n",
    "\n",
    "    # If periodic, extend the point array by count+degree+1\n",
    "    cv = np.asarray(cv)\n",
    "    count = len(cv)\n",
    "\n",
    "    if periodic:\n",
    "        factor, fraction = divmod(count+degree+1, count)\n",
    "        cv = np.concatenate((cv,) * factor + (cv[:fraction],))\n",
    "        count = len(cv)\n",
    "        degree = np.clip(degree,1,degree)\n",
    "\n",
    "    # If opened, prevent degree from exceeding count-1\n",
    "    else:\n",
    "        degree = np.clip(degree,1,count-1)\n",
    "\n",
    "\n",
    "    # Calculate knot vector\n",
    "    kv = None\n",
    "    if periodic:\n",
    "        kv = np.arange(0-degree,count+degree+degree-1)\n",
    "    else:\n",
    "        kv = np.clip(np.arange(count+degree+1)-degree,0,count-degree)\n",
    "\n",
    "    # Calculate query range\n",
    "    u = np.linspace(periodic,(count-degree),n)\n",
    "\n",
    "\n",
    "    # Calculate result\n",
    "    return np.array(si.splev(u, (kv,cv.T,degree))).T"
   ]
  },
  {
   "cell_type": "code",
   "execution_count": 44,
   "metadata": {},
   "outputs": [
    {
     "data": {
      "text/plain": [
       "<matplotlib.image.AxesImage at 0x7f718d1b4e80>"
      ]
     },
     "execution_count": 44,
     "metadata": {},
     "output_type": "execute_result"
    },
    {
     "data": {
      "image/png": "[encoded data removed]",
      "text/plain": [
       "<matplotlib.figure.Figure at 0x7f718d477198>"
      ]
     },
     "metadata": {},
     "output_type": "display_data"
    }
   ],
   "source": [
    "import random\n",
    "import scipy.misc\n",
    "from pprint import pprint\n",
    "from PIL import Image\n",
    "import matplotlib.pyplot as plt\n",
    "import matplotlib.image as mpimg\n",
    "\n",
    "\n",
    "size = 32\n",
    "\n",
    "data = np.zeros((size, size))\n",
    "out = np.zeros((size, size), dtype=np.uint8)\n",
    "\n",
    "cv = np.array([[ random.random(),  random.random()],\n",
    "#   [ random.random(),  random.random()],\n",
    "   [ random.random(),  random.random()],\n",
    "   [ random.random(),  random.random()]])\n",
    "\n",
    "points = bspline(cv,n=255,degree=2)\n",
    "\n",
    "# pprint(points)\n",
    "\n",
    "for p in points: \n",
    "#    pprint (p)\n",
    "    x= int(p[0]*size)\n",
    "    y= int(p[1]*size)\n",
    "    data[x,y] += 1\n",
    "\n",
    "np.save(\"swirl.npy\", data/255)\n",
    "\n",
    "# pump up the contrast\n",
    "out= (data*32).clip(0,255).astype(\"uint8\")\n",
    "Image.fromarray(out, mode=\"L\").save(\"swirl.png\")\n",
    "\n",
    "%matplotlib inline\n",
    "plt.imshow(data, cmap='gray')\n"
   ]
  },
  {
   "cell_type": "code",
   "execution_count": null,
   "metadata": {
    "collapsed": true
   },
   "outputs": [],
   "source": []
  }
 ],
 "metadata": {
  "kernelspec": {
   "display_name": "Python 3.6",
   "language": "python",
   "name": "python36"
  },
  "language_info": {
   "codemirror_mode": {
    "name": "ipython",
    "version": 3
   },
   "file_extension": ".py",
   "mimetype": "text/x-python",
   "name": "python",
   "nbconvert_exporter": "python",
   "pygments_lexer": "ipython3",
   "version": "3.6.3"
  }
 },
 "nbformat": 4,
 "nbformat_minor": 2
}
