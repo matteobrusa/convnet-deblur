{
 "cells": [
  {
   "cell_type": "code",
   "execution_count": 146,
   "metadata": {
    "collapsed": true
   },
   "outputs": [],
   "source": [
    "import numpy as np\n",
    "import scipy.interpolate as si   \n",
    "\n",
    "def bspline(cv, n=100, degree=3, periodic=False):\n",
    "    \"\"\" Calculate n samples on a bspline\n",
    "\n",
    "        cv :      Array ov control vertices\n",
    "        n  :      Number of samples to return\n",
    "        degree:   Curve degree\n",
    "        periodic: True - Curve is closed\n",
    "                  False - Curve is open\n",
    "    \"\"\"\n",
    "\n",
    "    # If periodic, extend the point array by count+degree+1\n",
    "    cv = np.asarray(cv)\n",
    "    count = len(cv)\n",
    "\n",
    "    if periodic:\n",
    "        factor, fraction = divmod(count+degree+1, count)\n",
    "        cv = np.concatenate((cv,) * factor + (cv[:fraction],))\n",
    "        count = len(cv)\n",
    "        degree = np.clip(degree,1,degree)\n",
    "\n",
    "    # If opened, prevent degree from exceeding count-1\n",
    "    else:\n",
    "        degree = np.clip(degree,1,count-1)\n",
    "\n",
    "\n",
    "    # Calculate knot vector\n",
    "    kv = None\n",
    "    if periodic:\n",
    "        kv = np.arange(0-degree,count+degree+degree-1)\n",
    "    else:\n",
    "        kv = np.clip(np.arange(count+degree+1)-degree,0,count-degree)\n",
    "\n",
    "    # Calculate query range\n",
    "    u = np.linspace(periodic,(count-degree),n)\n",
    "\n",
    "\n",
    "    # Calculate result\n",
    "    return np.array(si.splev(u, (kv,cv.T,degree)))"
   ]
  },
  {
   "cell_type": "code",
   "execution_count": 156,
   "metadata": {},
   "outputs": [],
   "source": [
    "import scipy.misc\n",
    "from pprint import pprint\n",
    "from PIL import Image\n",
    "import matplotlib.pyplot as plt\n",
    "import matplotlib.image as mpimg\n",
    "\n",
    "\n",
    "random.seed(123)  # predictable pseudo random sequence\n",
    "\n",
    "swirl_points= 255\n",
    "\n",
    "def create_swirl(size):\n",
    "    data = np.zeros((size, size))\n",
    "\n",
    "    cv = np.array([\n",
    "        [ random.random(),  random.random()],\n",
    "        [ random.random(),  random.random()],\n",
    "        [ random.random(),  random.random()],\n",
    "        [ random.random(),  random.random()]])\n",
    "\n",
    "    points= (bspline(cv, n=swirl_points, degree=2) * size).astype(\"int\")\n",
    "\n",
    "    for p in points: \n",
    "        data[p[0], p[1]] += 1/swirl_points\n",
    "    \n",
    "    return data\n",
    "\n",
    "swirls= [create_swirl(32) for _ in range(256)]\n",
    "np.save(\"swirls4x\"+str(size)+\".npy\", swirls)  \n",
    "        \n"
   ]
  }
 ],
 "metadata": {
  "kernelspec": {
   "display_name": "Python [default]",
   "language": "python",
   "name": "python3"
  },
  "language_info": {
   "codemirror_mode": {
    "name": "ipython",
    "version": 3
   },
   "file_extension": ".py",
   "mimetype": "text/x-python",
   "name": "python",
   "nbconvert_exporter": "python",
   "pygments_lexer": "ipython3",
   "version": "3.5.3"
  }
 },
 "nbformat": 4,
 "nbformat_minor": 2
}
